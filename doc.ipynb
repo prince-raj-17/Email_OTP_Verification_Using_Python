{
 "cells": [
  {
   "cell_type": "markdown",
   "metadata": {},
   "source": [
    "# OTP Email Verification Script Documentation"
   ]
  },
  {
   "cell_type": "markdown",
   "metadata": {},
   "source": [
    "## Functionality\n",
    "1.`generate_otp()`:\n",
    "- Generates a random 6-digit OTP (One Time Password).\n",
    "\n",
    "2.`send_otp_email()`:\n",
    "- Sends the generated OTP to the provided recipient email address using SMTP (Simple Mail Transfer Protocol).\n",
    "- Uses the credentials (sender email and password) stored in the config module.\n",
    "\n",
    "3.`otp_prompt()`:\n",
    "- Prompts the user to enter the OTP.\n",
    "- Validates the input to ensure it's a 6-digit numberic value.\n",
    "\n",
    "4.`verify_otp()`:\n",
    "- Compares the user input OTP with the generated OTP to verify if they match.\n",
    "- Allows a maximum number of attempts (default is 3).\n",
    "\n",
    "`main()`: Executes the OTP verification process.\n",
    "- Calls `generate_otp()` to generate an OTP.\n",
    "- Calls `send_otp_email()` to send the OTP to the recipient's email address.\n",
    "- Calls `verify_otp()` to prompt the user to enter the OTP and verify the entered OTP."
   ]
  },
  {
   "cell_type": "markdown",
   "metadata": {},
   "source": [
    "## Dependencies:\n",
    "- `smtplib`: python's smtplib module for sending emails and,\n",
    "- `random`: random module for otp generation."
   ]
  },
  {
   "cell_type": "markdown",
   "metadata": {},
   "source": [
    "## How to Run:\n",
    "1. Ensure you have Python installed on your system.\n",
    "\n",
    "2. Set up the config.py file with the sender's email address and password, as well as the recipient's as shown in below cell."
   ]
  },
  {
   "cell_type": "code",
   "execution_count": null,
   "metadata": {},
   "outputs": [],
   "source": [
    "# config.py\n",
    "\n",
    "sender_email = \"example@gmail.com\"\n",
    "email_password = \"password\"\n",
    "\n",
    "recipient_email = \"example@gmail.com\" "
   ]
  },
  {
   "cell_type": "markdown",
   "metadata": {},
   "source": [
    "3. Save the provided Python script as main.py.\n",
    "\n",
    "4. Ensure the config.py file is in the same directory as main.py and contains the required credentials.\n",
    "\n",
    "5. Open a terminal or command prompt.\n",
    "\n",
    "6. Navigate to the directory containing the script. \n",
    "\n",
    "7. Run the script by executing the command: `$python main.py`\n",
    "\n",
    "8. Follow the prompts to enter the OTP and verify access."
   ]
  },
  {
   "cell_type": "markdown",
   "metadata": {},
   "source": [
    "## Test Cases\n",
    "Here are some test cases to ensure the system functions correctly under various scenarios:\n",
    "\n",
    "1. **Correct OTP Entry:**\n",
    "   - Generate an OTP.\n",
    "   - Enter the correct OTP.\n",
    "   - Expected Outcome: Access granted!\n",
    "\n",
    "2. **Incorrect OTP Entry (Ones):**\n",
    "   - Generate an OTP.\n",
    "   - Enter an incorrect 6-digit numeric OTP.\n",
    "   - Expected Outcome: Incorrect OTP, n attempts left.\n",
    "\n",
    "3. **Incorrect OTP Entry (Max Attempts):**\n",
    "   - Generate an OTP.\n",
    "   - Enter incorrect 6-digit numeric OTP for all attempts.\n",
    "   - Expected Outcome: You have exceeded maximum attempts. Access Denied!\n",
    "\n",
    "4. **Invalid OTP Entry (Non-Digit Characters):**\n",
    "   - Generate an OTP.\n",
    "   - Enter alphabetic characters or special characters instead of digits.\n",
    "   - Expected Outcome: Prompt for re-entry of OTP with an appropriate error message.\n",
    "\n",
    "5. **Invalid OTP Entry (Incorrect Length):**\n",
    "   - Generate an OTP.\n",
    "   - Enter an OTP with fewer or more than 6 digits.\n",
    "   - Expected Outcome: Prompt for re-entry of OTP with an appropriate error message."
   ]
  },
  {
   "cell_type": "markdown",
   "metadata": {},
   "source": [
    "**Thanks ;)**\n",
    "- By: Prince Raj `tinewto`"
   ]
  }
 ],
 "metadata": {
  "kernelspec": {
   "display_name": "myenv",
   "language": "python",
   "name": "python3"
  },
  "language_info": {
   "name": "python",
   "version": "3.8.2"
  }
 },
 "nbformat": 4,
 "nbformat_minor": 2
}
